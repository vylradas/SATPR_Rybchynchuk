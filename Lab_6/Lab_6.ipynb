{
 "cells": [
  {
   "cell_type": "code",
   "execution_count": 4,
   "metadata": {},
   "outputs": [
    {
     "name": "stdout",
     "output_type": "stream",
     "text": [
      "Work of Rybchynchuk Vladyslav AP-31\n",
      "Lab 6\n"
     ]
    }
   ],
   "source": [
    "print(\"Work of Rybchynchuk Vladyslav AP-31\")\n",
    "print(\"Lab 6\")\n",
    "\n",
    "from scipy.optimize import linear_sum_assignment \n",
    " \n",
    "# Матриця вартостей для задачі про призначення \n",
    "A = [ \n",
    "    [5, 6], \n",
    "    [2, 3], \n",
    "    [4, 7]  \n",
    "] \n",
    " \n",
    "# Визначення імен програмістів та програм \n",
    "workers = [\"l1\", \"l2\", \"l3\"] \n",
    "works = [\"Robota 1\", \"Robota 2\"] \n"
   ]
  },
  {
   "cell_type": "markdown",
   "metadata": {},
   "source": [
    "Створюємо матрицю часу виконання двох робіт трьома працівниками."
   ]
  },
  {
   "cell_type": "code",
   "execution_count": 5,
   "metadata": {},
   "outputs": [
    {
     "name": "stdout",
     "output_type": "stream",
     "text": [
      "   Robota 1   Robota 2\n",
      "l1  [5, 6]\n",
      "l2  [2, 3]\n",
      "l3  [4, 7]\n",
      "\n",
      "Оптимальне призначення:\n",
      "l2 -> Robota 2 (вартість: 3)\n",
      "l3 -> Robota 1 (вартість: 4)\n",
      "\n",
      "Мінімальний час виконання двох робіт: 7\n"
     ]
    }
   ],
   "source": [
    " \n",
    "# Вирішення задачі про призначення \n",
    "row_ind, col_ind = linear_sum_assignment(A) \n",
    " \n",
    "# Виведення матриці з написами \n",
    "print(\"   \" + \"   \".join(works)) \n",
    "for i in range(len(A)): \n",
    "    print(f\"{workers[i]}  {A[i]}\") \n",
    " \n",
    "# Виведення результатів та обчислення мінімального значення цільової функції \n",
    "min_time = 0 \n",
    "print(\"\\nОптимальне призначення:\") \n",
    "for i in range(len(row_ind)): \n",
    "    worker_index = row_ind[i] \n",
    "    work_index = col_ind[i] \n",
    "    time = A[worker_index][work_index] \n",
    "    min_time += time \n",
    "    print(f\"{workers[worker_index]} -> {works[work_index]} (вартість: {time})\") \n",
    " \n",
    "print(f\"\\nМінімальний час виконання двох робіт: {min_time}\")\n"
   ]
  },
  {
   "cell_type": "markdown",
   "metadata": {},
   "source": [
    "Пошук мінімального часу виконання двох робіт та виведення отриманих результатів."
   ]
  }
 ],
 "metadata": {
  "kernelspec": {
   "display_name": "base",
   "language": "python",
   "name": "python3"
  },
  "language_info": {
   "codemirror_mode": {
    "name": "ipython",
    "version": 3
   },
   "file_extension": ".py",
   "mimetype": "text/x-python",
   "name": "python",
   "nbconvert_exporter": "python",
   "pygments_lexer": "ipython3",
   "version": "3.11.5"
  }
 },
 "nbformat": 4,
 "nbformat_minor": 2
}

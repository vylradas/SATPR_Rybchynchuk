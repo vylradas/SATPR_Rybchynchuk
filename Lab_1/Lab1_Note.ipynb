{
 "cells": [
  {
   "cell_type": "markdown",
   "metadata": {},
   "source": [
    "Наступний код відкриває два текстових файли з іменами \"Table 1.txt\" і \"Table 2.txt\" у режимі читання (\"r\")."
   ]
  },
  {
   "cell_type": "code",
   "execution_count": 1,
   "metadata": {},
   "outputs": [
    {
     "name": "stdout",
     "output_type": "stream",
     "text": [
      "Work of Rybchynchuk Vladyslav AP-31\n",
      "Lab 1\n"
     ]
    }
   ],
   "source": [
    "f1 = open(\"Table 1.txt\", \"r\")\n",
    "f2 = open(\"Table 2.txt\", \"r\")\n",
    "\n",
    "print(\"Work of Rybchynchuk Vladyslav AP-31\")\n",
    "print(\"Lab 1\")\n"
   ]
  },
  {
   "cell_type": "code",
   "execution_count": 2,
   "metadata": {},
   "outputs": [],
   "source": [
    "\n",
    "#Завдання 1.\n",
    "def first_table():\n",
    "    print()\n",
    "    print(\"Table #1\")\n",
    "    #Створюємо список елементів(від A1 до A4/від K1 до K4)\n",
    "    Table1 = list()\n",
    "    n = range(len(Table1))\n",
    "    for l in f1:\n",
    "        Table1.append([int(i) for i in l.split()])\n",
    "    \n",
    "    Result = list()\n",
    "    for i in range(len(Table1)-1):\n",
    "        sum = 0\n",
    "            \n",
    "        for j in range(len(Table1[0])):\n",
    "            sum+=Table1[i][j]*Table1[len(Table1)-1][j]\n",
    "\n",
    "        Result.append(sum)\n",
    "         \n",
    "    print(\"Sums of grades:\",Result)\n",
    "    print(\"Max: \", max(Result), \"in A\",Result.index(max(Result))+1)\n",
    "    print()\n"
   ]
  },
  {
   "cell_type": "code",
   "execution_count": 3,
   "metadata": {},
   "outputs": [],
   "source": [
    "\n",
    "#Завдання 2. \n",
    "def second_table():\n",
    "    print()\n",
    "    print(\"Table #2\")\n",
    "    #Створюємо список елементів(від A1 до A5/від K1 до K5)\n",
    "    Table2 = list()\n",
    "\n",
    "    for l in f2:\n",
    "        Table2.append([float(i) for i in l.split()])\n",
    "\n",
    "    for i in range(len(Table2[0])):\n",
    "        tmpL = list()\n",
    "        # j - рядок, i - столбік\n",
    "        for j in range(len(Table2) - 2):\n",
    "            tmpL.append(Table2[j][i])\n",
    "        if Table2[len(Table2)-1][i]:\n",
    "            for j in range(len(Table2) - 2):\n",
    "                Table2[j][i]=(Table2[j][i]-min(tmpL))/(max(tmpL)-min(tmpL))\n",
    "        else:\n",
    "            for j in range(len(Table2) - 2):\n",
    "                Table2[j][i]=(max(tmpL)-Table2[j][i])/(max(tmpL)-min(tmpL))\n",
    "            \n",
    "    Result = list()\n",
    "    for i in range(len(Table2)-2):\n",
    "        sum = 0\n",
    "        \n",
    "        for j in range(len(Table2[0])):\n",
    "            sum+=Table2[i][j]*Table2[len(Table2)-2][j]\n",
    "            Sum = round(sum, 3)\n",
    "        \n",
    "        Result.append(Sum)\n",
    "        \n",
    "    print(\"Sums of grades:\", Result)\n",
    "    print(\"Max: \", max(Result), \"in A\",Result.index(max(Result))+1)\n",
    "    print()\n",
    "\n",
    "\n",
    "menu = {\n",
    "    1: first_table,\n",
    "    2: second_table,\n",
    "}\n"
   ]
  },
  {
   "cell_type": "code",
   "execution_count": 4,
   "metadata": {},
   "outputs": [
    {
     "name": "stdout",
     "output_type": "stream",
     "text": [
      "List of tables\n",
      "1. Table 1\n",
      "2. Table 2\n",
      "0. End the program\n"
     ]
    },
    {
     "ename": "ValueError",
     "evalue": "invalid literal for int() with base 10: ''",
     "output_type": "error",
     "traceback": [
      "\u001b[1;31m---------------------------------------------------------------------------\u001b[0m",
      "\u001b[1;31mValueError\u001b[0m                                Traceback (most recent call last)",
      "Cell \u001b[1;32mIn[4], line 25\u001b[0m\n\u001b[0;32m     23\u001b[0m \u001b[38;5;66;03m# Виклик функції\u001b[39;00m\n\u001b[0;32m     24\u001b[0m \u001b[38;5;124;03m'''if __name__ == \"__main__\": '''\u001b[39;00m\n\u001b[1;32m---> 25\u001b[0m \u001b[43mmain\u001b[49m\u001b[43m(\u001b[49m\u001b[43m)\u001b[49m\n",
      "Cell \u001b[1;32mIn[4], line 9\u001b[0m, in \u001b[0;36mmain\u001b[1;34m()\u001b[0m\n\u001b[0;32m      6\u001b[0m \u001b[38;5;28mprint\u001b[39m(\u001b[38;5;124m\"\u001b[39m\u001b[38;5;124m2. Table 2\u001b[39m\u001b[38;5;124m\"\u001b[39m) \u001b[38;5;66;03m#Друге завдання\u001b[39;00m\n\u001b[0;32m      7\u001b[0m \u001b[38;5;28mprint\u001b[39m(\u001b[38;5;124m\"\u001b[39m\u001b[38;5;124m0. End the program\u001b[39m\u001b[38;5;124m\"\u001b[39m)\n\u001b[1;32m----> 9\u001b[0m selection \u001b[38;5;241m=\u001b[39m \u001b[38;5;28;43mint\u001b[39;49m\u001b[43m(\u001b[49m\u001b[38;5;28;43minput\u001b[39;49m\u001b[43m(\u001b[49m\u001b[38;5;124;43m\"\u001b[39;49m\u001b[38;5;124;43mSwitch the table: \u001b[39;49m\u001b[38;5;124;43m\"\u001b[39;49m\u001b[43m)\u001b[49m\u001b[43m)\u001b[49m\n\u001b[0;32m     11\u001b[0m \u001b[38;5;28;01mif\u001b[39;00m selection \u001b[38;5;241m==\u001b[39m \u001b[38;5;241m0\u001b[39m:\n\u001b[0;32m     12\u001b[0m     \u001b[38;5;28mprint\u001b[39m(\u001b[38;5;124m\"\u001b[39m\u001b[38;5;124mEnd The Program.\u001b[39m\u001b[38;5;124m\"\u001b[39m)\n",
      "\u001b[1;31mValueError\u001b[0m: invalid literal for int() with base 10: ''"
     ]
    }
   ],
   "source": [
    "\n",
    "# Меню вибору та перегляду розв'язку завдання\n",
    "def main():\n",
    "    while True:\n",
    "        print(\"List of tables\")\n",
    "        print(\"1. Table 1\") #Перше завдання\n",
    "        print(\"2. Table 2\") #Друге завдання\n",
    "        print(\"0. End the program\")\n",
    "\n",
    "        selection = int(input(\"Switch the table: \"))\n",
    "\n",
    "        if selection == 0:\n",
    "            print(\"End The Program.\")\n",
    "            break  #Виходимо з циклу, якщо вибрано 0.\n",
    "        \n",
    "        #Виклик функції відповідно до вибору користувача\n",
    "        selected_action = menu.get(selection)\n",
    "        \n",
    "        #Перевірка на коректне введення значення\n",
    "        if selected_action:\n",
    "            selected_action()\n",
    "        else:\n",
    "            print(\"Error. Try again.\")\n",
    "# Виклик функції\n",
    "'''if __name__ == \"__main__\": '''\n",
    "main()\n"
   ]
  }
 ],
 "metadata": {
  "kernelspec": {
   "display_name": "Python 3",
   "language": "python",
   "name": "python3"
  },
  "language_info": {
   "codemirror_mode": {
    "name": "ipython",
    "version": 3
   },
   "file_extension": ".py",
   "mimetype": "text/x-python",
   "name": "python",
   "nbconvert_exporter": "python",
   "pygments_lexer": "ipython3",
   "version": "3.11.5"
  }
 },
 "nbformat": 4,
 "nbformat_minor": 2
}

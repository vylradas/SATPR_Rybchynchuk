{
 "cells": [
  {
   "cell_type": "code",
   "execution_count": 24,
   "metadata": {},
   "outputs": [
    {
     "name": "stdout",
     "output_type": "stream",
     "text": [
      "Work of Rybchynchuk Vladyslav AP-31\n",
      "Lab 8\n"
     ]
    }
   ],
   "source": [
    "import pandas as pd\n",
    "from pulp import LpMinimize, LpVariable, LpProblem, lpSum \n",
    "import numpy as np\n",
    "from scipy.optimize import linear_sum_assignment\n",
    "\n",
    "print(\"Work of Rybchynchuk Vladyslav AP-31\")\n",
    "print(\"Lab 8\")"
   ]
  },
  {
   "cell_type": "markdown",
   "metadata": {},
   "source": [
    "Автоматизація процесу розв'язку задачі 6 методом північно-західного кута."
   ]
  },
  {
   "cell_type": "code",
   "execution_count": 29,
   "metadata": {},
   "outputs": [
    {
     "name": "stdout",
     "output_type": "stream",
     "text": [
      "Оптимальний розподіл:\n"
     ]
    },
    {
     "data": {
      "text/html": [
       "<div>\n",
       "<style scoped>\n",
       "    .dataframe tbody tr th:only-of-type {\n",
       "        vertical-align: middle;\n",
       "    }\n",
       "\n",
       "    .dataframe tbody tr th {\n",
       "        vertical-align: top;\n",
       "    }\n",
       "\n",
       "    .dataframe thead th {\n",
       "        text-align: right;\n",
       "    }\n",
       "</style>\n",
       "<table border=\"1\" class=\"dataframe\">\n",
       "  <thead>\n",
       "    <tr style=\"text-align: right;\">\n",
       "      <th></th>\n",
       "      <th>0</th>\n",
       "      <th>1</th>\n",
       "      <th>2</th>\n",
       "      <th>3</th>\n",
       "      <th>4</th>\n",
       "    </tr>\n",
       "  </thead>\n",
       "  <tbody>\n",
       "    <tr>\n",
       "      <th>0</th>\n",
       "      <td>190.0</td>\n",
       "      <td>10.0</td>\n",
       "      <td>0.0</td>\n",
       "      <td>0.0</td>\n",
       "      <td>0.0</td>\n",
       "    </tr>\n",
       "    <tr>\n",
       "      <th>1</th>\n",
       "      <td>0.0</td>\n",
       "      <td>90.0</td>\n",
       "      <td>120.0</td>\n",
       "      <td>40.0</td>\n",
       "      <td>0.0</td>\n",
       "    </tr>\n",
       "    <tr>\n",
       "      <th>2</th>\n",
       "      <td>0.0</td>\n",
       "      <td>0.0</td>\n",
       "      <td>0.0</td>\n",
       "      <td>70.0</td>\n",
       "      <td>130.0</td>\n",
       "    </tr>\n",
       "    <tr>\n",
       "      <th>3</th>\n",
       "      <td>0.0</td>\n",
       "      <td>0.0</td>\n",
       "      <td>0.0</td>\n",
       "      <td>0.0</td>\n",
       "      <td>0.0</td>\n",
       "    </tr>\n",
       "  </tbody>\n",
       "</table>\n",
       "</div>"
      ],
      "text/plain": [
       "       0     1      2     3      4\n",
       "0  190.0  10.0    0.0   0.0    0.0\n",
       "1    0.0  90.0  120.0  40.0    0.0\n",
       "2    0.0   0.0    0.0  70.0  130.0\n",
       "3    0.0   0.0    0.0   0.0    0.0"
      ]
     },
     "metadata": {},
     "output_type": "display_data"
    },
    {
     "name": "stdout",
     "output_type": "stream",
     "text": [
      "Загальна вартість оптимального розподілу: 19040.0\n"
     ]
    }
   ],
   "source": [
    "def northwest_corner_method(supply, demand, costs): \n",
    "    rows, cols = len(supply), len(demand) \n",
    "    allocation = np.zeros((rows, cols)) \n",
    " \n",
    "    i, j = 0, 0 \n",
    " \n",
    "    while i < rows and j < cols: \n",
    "        quantity = min(supply[i], demand[j]) \n",
    "        allocation[i, j] = quantity \n",
    "        supply[i] -= quantity \n",
    "        demand[j] -= quantity \n",
    " \n",
    "        if supply[i] == 0: \n",
    "            i += 1 \n",
    "        if demand[j] == 0: \n",
    "            j += 1 \n",
    " \n",
    "    return allocation \n",
    "\n",
    "def calculate_total_cost(allocation, costs):\n",
    "    total_cost = np.sum(allocation * costs)\n",
    "    return total_cost\n",
    "\n",
    "# Початкові дані \n",
    "supply = [200, 250, 200, 130] \n",
    "demand = [190, 100, 120, 110, 130] \n",
    "costs = np.array([ \n",
    "    [28, 27, 18, 27, 24], \n",
    "    [18, 26, 27, 32, 21], \n",
    "    [27, 33, 23, 31, 34], \n",
    "    [190, 100, 120, 110, 130] \n",
    "]) \n",
    "\n",
    "# Виклик функції та виведення результатів\n",
    "allocation = northwest_corner_method(supply, demand, costs)\n",
    "\n",
    "print(\"Оптимальний розподіл:\")\n",
    "display(pd.DataFrame(allocation))\n",
    "print(\"Загальна вартість оптимального розподілу:\", calculate_total_cost(allocation, costs))"
   ]
  },
  {
   "cell_type": "markdown",
   "metadata": {},
   "source": [
    "Автоматизація процесу розв'язку задачі 1 методом потенціалів."
   ]
  },
  {
   "cell_type": "code",
   "execution_count": 25,
   "metadata": {},
   "outputs": [
    {
     "name": "stdout",
     "output_type": "stream",
     "text": [
      "Відповідь: \n"
     ]
    },
    {
     "data": {
      "text/html": [
       "<div>\n",
       "<style scoped>\n",
       "    .dataframe tbody tr th:only-of-type {\n",
       "        vertical-align: middle;\n",
       "    }\n",
       "\n",
       "    .dataframe tbody tr th {\n",
       "        vertical-align: top;\n",
       "    }\n",
       "\n",
       "    .dataframe thead th {\n",
       "        text-align: right;\n",
       "    }\n",
       "</style>\n",
       "<table border=\"1\" class=\"dataframe\">\n",
       "  <thead>\n",
       "    <tr style=\"text-align: right;\">\n",
       "      <th></th>\n",
       "      <th>1</th>\n",
       "      <th>2</th>\n",
       "      <th>3</th>\n",
       "      <th>4</th>\n",
       "      <th>5</th>\n",
       "    </tr>\n",
       "  </thead>\n",
       "  <tbody>\n",
       "    <tr>\n",
       "      <th>1</th>\n",
       "      <td>140.0</td>\n",
       "      <td>90.0</td>\n",
       "      <td>0.0</td>\n",
       "      <td>0.0</td>\n",
       "      <td>0.0</td>\n",
       "    </tr>\n",
       "    <tr>\n",
       "      <th>2</th>\n",
       "      <td>0.0</td>\n",
       "      <td>0.0</td>\n",
       "      <td>160.0</td>\n",
       "      <td>90.0</td>\n",
       "      <td>0.0</td>\n",
       "    </tr>\n",
       "    <tr>\n",
       "      <th>3</th>\n",
       "      <td>0.0</td>\n",
       "      <td>0.0</td>\n",
       "      <td>0.0</td>\n",
       "      <td>20.0</td>\n",
       "      <td>150.0</td>\n",
       "    </tr>\n",
       "    <tr>\n",
       "      <th>4</th>\n",
       "      <td>0.0</td>\n",
       "      <td>0.0</td>\n",
       "      <td>0.0</td>\n",
       "      <td>0.0</td>\n",
       "      <td>0.0</td>\n",
       "    </tr>\n",
       "  </tbody>\n",
       "</table>\n",
       "</div>"
      ],
      "text/plain": [
       "       1     2      3     4      5\n",
       "1  140.0  90.0    0.0   0.0    0.0\n",
       "2    0.0   0.0  160.0  90.0    0.0\n",
       "3    0.0   0.0    0.0  20.0  150.0\n",
       "4    0.0   0.0    0.0   0.0    0.0"
      ]
     },
     "metadata": {},
     "output_type": "display_data"
    },
    {
     "name": "stdout",
     "output_type": "stream",
     "text": [
      "Загальна вартість: 3450.0\n"
     ]
    }
   ],
   "source": [
    "supply = [200, 450, 250]\n",
    "suppliers = range(len(supply))\n",
    "\n",
    "demand = [100, 125, 325, 250, 100]\n",
    "consumers = range(len(demand))\n",
    "\n",
    "costs = [[5, 8, 7, 10, 3], \n",
    "         [4, 2, 2, 5, 6],\n",
    "         [7, 3, 5, 9, 2]]\n",
    "\n",
    "costs = makeDict ([suppliers, consumers], costs, 0)\n",
    "\n",
    "prob = LpProblem(\"Transportation_Problem\", LpMinimize)\n",
    "\n",
    "routes = [(i, j) for i in suppliers for j in consumers]\n",
    "\n",
    "vars = LpVariable.dicts(\"Route\", (suppliers, consumers), 0, None, LpInteger)\n",
    "\n",
    "prob += (\n",
    "    lpSum([vars[w][b] * costs[w][b] for (w, b) in routes]),\n",
    "    \"Sum_of_Transporting_Costs\",\n",
    ")\n",
    "\n",
    "for s in suppliers:\n",
    "    prob += (\n",
    "        lpSum([vars[s][b] for b in consumers]) <=supply[s],\n",
    "        \"sum_of_Products_out_of_suppliers_%s\" % s,\n",
    "    )\n",
    "\n",
    "for c in consumers:\n",
    "    prob += (\n",
    "        lpSum([vars[w][c] for w in suppliers]) >=demand[c],\n",
    "        \"Sum_of_Products_into_consumer%s\" % c,\n",
    "    )\n",
    "\n",
    "prob.solve()\n",
    "\n",
    "results = [v.varValue for v in prob.variables()]\n",
    "\n",
    "print(\"Відповідь: \")\n",
    "df = pd.DataFrame(allocation.reshape(4, 5)) \n",
    "# змінюємо індексацію \n",
    "df.index = np.arange(1, df.shape[0] + 1) \n",
    "df.columns = np.arange(1, df.shape[1] + 1) \n",
    "display(df)\n",
    "print(\"Загальна вартість:\", value(prob.objective))"
   ]
  }
 ],
 "metadata": {
  "kernelspec": {
   "display_name": "base",
   "language": "python",
   "name": "python3"
  },
  "language_info": {
   "codemirror_mode": {
    "name": "ipython",
    "version": 3
   },
   "file_extension": ".py",
   "mimetype": "text/x-python",
   "name": "python",
   "nbconvert_exporter": "python",
   "pygments_lexer": "ipython3",
   "version": "3.11.5"
  }
 },
 "nbformat": 4,
 "nbformat_minor": 2
}

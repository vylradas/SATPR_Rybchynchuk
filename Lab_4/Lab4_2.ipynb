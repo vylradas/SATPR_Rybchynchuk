{
 "cells": [
  {
   "cell_type": "code",
   "execution_count": 4,
   "id": "initial_id",
   "metadata": {
    "ExecuteTime": {
     "end_time": "2023-11-09T15:22:51.492013500Z",
     "start_time": "2023-11-09T15:22:50.838806800Z"
    },
    "collapsed": true
   },
   "outputs": [],
   "source": [
    "import numpy as np \n",
    " \n",
    "# Вхідні дані \n",
    "data = { \n",
    "    'Альтернатива': ['А1', 'А2', 'А3', 'А4'], \n",
    "    'К1': [3, 7, 2, 9], \n",
    "    'К2': [8, 3, 6, 7], \n",
    "    'К3': [4, 8, 3, 5], \n",
    "    'К4': [9, 6, 5, 4], \n",
    "    'Вага': [8, 9, 6, 7] \n",
    "} \n"
   ]
  },
  {
   "cell_type": "code",
   "execution_count": 5,
   "id": "f209d01a",
   "metadata": {},
   "outputs": [
    {
     "name": "stdout",
     "output_type": "stream",
     "text": [
      "За критерієм А1 обираємо альтернативу: None\n",
      "За критерієм А2 обираємо альтернативу: None\n",
      "За критерієм А3 обираємо альтернативу: None\n",
      "За критерієм А4 обираємо альтернативу: None\n",
      "Альтернатива: А1 - оцінки за критеріями: {'Песимізм': 0.8, 'Оптимізм': 2.4, 'Гурвіц': 1.6, 'Лаплас': 1.525, 'Байєса-Лапласа': 1.5833333333333333, 'Ходжа-Леман': 0.9333333333333333}\n",
      "Альтернатива: А2 - оцінки за критеріями: {'Песимізм': 0.8, 'Оптимізм': 2.4, 'Гурвіц': 1.6, 'Лаплас': 1.525, 'Байєса-Лапласа': 1.5833333333333333, 'Ходжа-Леман': 0.9333333333333333}\n",
      "Альтернатива: А3 - оцінки за критеріями: {'Песимізм': 0.8, 'Оптимізм': 2.4, 'Гурвіц': 1.6, 'Лаплас': 1.525, 'Байєса-Лапласа': 1.5833333333333333, 'Ходжа-Леман': 0.9333333333333333}\n",
      "Альтернатива: А4 - оцінки за критеріями: {'Песимізм': 0.8, 'Оптимізм': 2.4, 'Гурвіц': 1.6, 'Лаплас': 1.525, 'Байєса-Лапласа': 1.5833333333333333, 'Ходжа-Леман': 0.9333333333333333}\n"
     ]
    }
   ],
   "source": [
    "# Нормалізація ваг \n",
    "weights = data['Вага'] / np.sum(data['Вага']) \n",
    " \n",
    "# Функції для розрахунку показників \n",
    "def pessimism(k1, k2, k3, k4): \n",
    "    return min(k1, k2, k3, k4) \n",
    " \n",
    "def optimism(k1, k2, k3, k4): \n",
    "    return max(k1, k2, k3, k4) \n",
    " \n",
    "def gurwitz(k1, k2): \n",
    "    return (k1 + k2) / 2 \n",
    " \n",
    "def laplace(k1, k2, k3, k4): \n",
    "    return (k1 + k2 + k3 + k4) / 4 \n",
    " \n",
    "def bayes_laplace(k1, k2, k3, k4): \n",
    "    return weights[0] * k1 + weights[1] * k2 + weights[2] * k3 + weights[3] * k4 \n",
    " \n",
    "def hodge_lehmann(k1, k2): \n",
    "    return weights[0] * k1 + weights[1] * k2 \n",
    " \n",
    "# Розрахунок показників для кожної альтернативи \n",
    "results = {} \n",
    "for alternative in data['Альтернатива']: \n",
    "    # Вага критерію К1 \n",
    "    k1 = data['К1'][data['Альтернатива'] == alternative] * weights[0] \n",
    "    # Вага критерію К2 \n",
    "    k2 = data['К2'][data['Альтернатива'] == alternative] * weights[1] \n",
    "    # Вага критерію К3 \n",
    "    k3 = data['К3'][data['Альтернатива'] == alternative] * weights[2] \n",
    "    # Вага критерію К4 \n",
    "    k4 = data['К4'][data['Альтернатива'] == alternative] * weights[3] \n",
    " \n",
    "    # Розрахунок показника за кожним критерієм \n",
    "    results[alternative] = { \n",
    "        'Песимізм': pessimism(k1, k2, k3, k4), \n",
    "        'Оптимізм': optimism(k1, k2, k3, k4), \n",
    "        'Гурвіц': gurwitz(k1, k2), \n",
    "        'Лаплас': laplace(k1, k2, k3, k4), \n",
    "        'Байєса-Лапласа': bayes_laplace(k1, k2, k3, k4), \n",
    "        'Ходжа-Леман': hodge_lehmann(k1, k2) \n",
    "    } \n",
    " \n",
    "# Знаходження альтернативи з максимальним значенням для кожного показника \n",
    "for indicator in results.keys(): \n",
    "    max_value = max(results[indicator].values()) \n",
    "    max_alternative = results[indicator].get(max_value) \n",
    "    print(\"За критерієм\", indicator, \"обираємо альтернативу:\", max_alternative) \n",
    " \n",
    " \n",
    "# Виведення результатів \n",
    "for alternative, values in results.items(): \n",
    "    print(\"Альтернатива:\", alternative, \"- оцінки за критеріями:\", values)"
   ]
  }
 ],
 "metadata": {
  "kernelspec": {
   "display_name": "Python 3",
   "language": "python",
   "name": "python3"
  },
  "language_info": {
   "codemirror_mode": {
    "name": "ipython",
    "version": 3
   },
   "file_extension": ".py",
   "mimetype": "text/x-python",
   "name": "python",
   "nbconvert_exporter": "python",
   "pygments_lexer": "ipython3",
   "version": "3.11.5"
  }
 },
 "nbformat": 4,
 "nbformat_minor": 5
}

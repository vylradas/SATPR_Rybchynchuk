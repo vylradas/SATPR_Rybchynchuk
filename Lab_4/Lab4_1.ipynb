{
 "cells": [
  {
   "cell_type": "code",
   "execution_count": 3,
   "id": "initial_id",
   "metadata": {
    "ExecuteTime": {
     "end_time": "2023-11-09T15:20:38.391383100Z",
     "start_time": "2023-11-09T15:20:37.895361Z"
    },
    "collapsed": true
   },
   "outputs": [],
   "source": [
    "import numpy as np\n",
    "import pandas as pd"
   ]
  },
  {
   "cell_type": "code",
   "execution_count": 16,
   "id": "36da89f7954a3f17",
   "metadata": {
    "ExecuteTime": {
     "end_time": "2023-11-09T15:20:38.882519700Z",
     "start_time": "2023-11-09T15:20:38.395724300Z"
    },
    "collapsed": false
   },
   "outputs": [
    {
     "data": {
      "text/html": [
       "<div>\n",
       "<style scoped>\n",
       "    .dataframe tbody tr th:only-of-type {\n",
       "        vertical-align: middle;\n",
       "    }\n",
       "\n",
       "    .dataframe tbody tr th {\n",
       "        vertical-align: top;\n",
       "    }\n",
       "\n",
       "    .dataframe thead th {\n",
       "        text-align: right;\n",
       "    }\n",
       "</style>\n",
       "<table border=\"1\" class=\"dataframe\">\n",
       "  <thead>\n",
       "    <tr style=\"text-align: right;\">\n",
       "      <th></th>\n",
       "      <th>Альтернативи</th>\n",
       "      <th>П1</th>\n",
       "      <th>П2</th>\n",
       "      <th>П3</th>\n",
       "      <th>П4</th>\n",
       "      <th>П5</th>\n",
       "    </tr>\n",
       "  </thead>\n",
       "  <tbody>\n",
       "    <tr>\n",
       "      <th>0</th>\n",
       "      <td>A1</td>\n",
       "      <td>180</td>\n",
       "      <td>140</td>\n",
       "      <td>4</td>\n",
       "      <td>229</td>\n",
       "      <td>232</td>\n",
       "    </tr>\n",
       "    <tr>\n",
       "      <th>1</th>\n",
       "      <td>A2</td>\n",
       "      <td>420</td>\n",
       "      <td>160</td>\n",
       "      <td>140</td>\n",
       "      <td>220</td>\n",
       "      <td>100</td>\n",
       "    </tr>\n",
       "    <tr>\n",
       "      <th>2</th>\n",
       "      <td>A3</td>\n",
       "      <td>57</td>\n",
       "      <td>315</td>\n",
       "      <td>35</td>\n",
       "      <td>49</td>\n",
       "      <td>220</td>\n",
       "    </tr>\n",
       "    <tr>\n",
       "      <th>3</th>\n",
       "      <td>A4</td>\n",
       "      <td>250</td>\n",
       "      <td>4</td>\n",
       "      <td>9</td>\n",
       "      <td>310</td>\n",
       "      <td>201</td>\n",
       "    </tr>\n",
       "  </tbody>\n",
       "</table>\n",
       "</div>"
      ],
      "text/plain": [
       "  Альтернативи   П1   П2   П3   П4   П5\n",
       "0           A1  180  140    4  229  232\n",
       "1           A2  420  160  140  220  100\n",
       "2           A3   57  315   35   49  220\n",
       "3           A4  250    4    9  310  201"
      ]
     },
     "metadata": {},
     "output_type": "display_data"
    }
   ],
   "source": [
    "matrix = pd.read_excel('Лабораторна №4.xlsx', sheet_name='Завдання 1(Варіант 0)',header=None, skiprows=2, usecols='B:F', nrows=4).to_numpy()\n",
    "propabilities = pd.read_excel('Лабораторна №4.xlsx', sheet_name='Завдання 1(Варіант 0)',header=None, skiprows=2, usecols='K:O', nrows=1).to_numpy()\n",
    "al = pd.read_excel('Лабораторна №4.xlsx', sheet_name='Завдання 1(Варіант 0)',header=None, skiprows=2, usecols='I', nrows=1).to_numpy()\n",
    "data = {\n",
    "    \"Альтернативи\":[\"A1\", \"A2\", \"A3\", \"A4\"],\n",
    "    \"П1\":matrix[:, 0],\n",
    "    \"П2\":matrix[:, 1],\n",
    "    \"П3\":matrix[:, 2],\n",
    "    \"П4\":matrix[:, 3],\n",
    "    \"П5\":matrix[:, 4]\n",
    "}\n",
    "display(pd.DataFrame(data))"
   ]
  },
  {
   "cell_type": "code",
   "execution_count": 46,
   "id": "f2d4adcabef48406",
   "metadata": {
    "ExecuteTime": {
     "end_time": "2023-11-09T15:20:38.945953500Z",
     "start_time": "2023-11-09T15:20:38.897612600Z"
    },
    "collapsed": false
   },
   "outputs": [
    {
     "name": "stdout",
     "output_type": "stream",
     "text": [
      "Pessimistic Criterion: [  4 100  35   4]\n",
      "Optimistic Criterion: [232 420 315 310]\n",
      "Laplace Criterion: [157.  208.  135.2 154.8]\n",
      "Hurwicz Criterion: [118. 260. 175. 157.]\n",
      "Bayes-Laplace Criterion: [175.1        178.85714286 154.74285714 165.54285714]\n",
      "Hodges-Lehmann Criterion: [ 55.33       123.65714286  70.92285714  52.46285714]\n"
     ]
    }
   ],
   "source": [
    "def pessimistic_criterion(matrix):\n",
    "    return np.min(matrix, axis=1)\n",
    "\n",
    "def optimistic_criterion(matrix):\n",
    "    return np.max(matrix, axis=1)\n",
    "\n",
    "def laplace_criterion(matrix):\n",
    "    return np.mean(matrix, axis=1)\n",
    "\n",
    "def hurwicz_criterion(matrix, al):\n",
    "    return al * np.min(matrix, axis=1) + (1 - al) * np.max(matrix, axis=1)\n",
    "\n",
    "def bayes_laplace_criterion(matrix, probabilities):\n",
    "    return np.sum(matrix * probabilities, axis=1)\n",
    "\n",
    "def hodges_lehmann_criterion(matrix, probabilities, al):\n",
    "    return al * np.min(matrix, axis=1) + (1 - al) * np.sum(matrix * probabilities, axis=1)\n",
    "\n",
    "result_pessimistic = pessimistic_criterion(matrix)\n",
    "result_optimistic = optimistic_criterion(matrix)\n",
    "result_laplace = laplace_criterion(matrix)\n",
    "result_hurwicz = hurwicz_criterion(matrix, 0.5)\n",
    "result_bayes_laplace = bayes_laplace_criterion(matrix, propabilities[0])\n",
    "result_hodges_lehmann = hodges_lehmann_criterion(matrix, propabilities[0], 0.7)\n",
    "\n",
    "# Виведення результатів\n",
    "print(\"Pessimistic Criterion:\", result_pessimistic)\n",
    "print(\"Optimistic Criterion:\", result_optimistic)\n",
    "print(\"Laplace Criterion:\", result_laplace)\n",
    "print(\"Hurwicz Criterion:\", result_hurwicz)\n",
    "print(\"Bayes-Laplace Criterion:\", result_bayes_laplace)\n",
    "print(\"Hodges-Lehmann Criterion:\", result_hodges_lehmann)"
   ]
  }
 ],
 "metadata": {
  "kernelspec": {
   "display_name": "Python 3",
   "language": "python",
   "name": "python3"
  },
  "language_info": {
   "codemirror_mode": {
    "name": "ipython",
    "version": 3
   },
   "file_extension": ".py",
   "mimetype": "text/x-python",
   "name": "python",
   "nbconvert_exporter": "python",
   "pygments_lexer": "ipython3",
   "version": "3.11.5"
  }
 },
 "nbformat": 4,
 "nbformat_minor": 5
}

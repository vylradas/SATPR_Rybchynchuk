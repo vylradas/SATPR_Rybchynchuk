{
 "cells": [
  {
   "cell_type": "code",
   "execution_count": 3,
   "metadata": {},
   "outputs": [
    {
     "name": "stdout",
     "output_type": "stream",
     "text": [
      "Work of Rybchynchuk Vladyslav AP-31\n",
      "Lab 7\n"
     ]
    }
   ],
   "source": [
    "print(\"Work of Rybchynchuk Vladyslav AP-31\")\n",
    "print(\"Lab 7\")\n",
    "import copy\n",
    "# Заданий профіль голосування \n",
    "votes = [ \n",
    "    (4, ['A', 'B', 'C', 'D']), \n",
    "    (4, ['A', 'C', 'D', 'B']), \n",
    "    (3, ['C', 'A', 'B', 'D']), \n",
    "    (9, ['B', 'C', 'A', 'D']), \n",
    "]  \n"
   ]
  },
  {
   "cell_type": "markdown",
   "metadata": {},
   "source": [
    "Створення профілю у вигляді матриці."
   ]
  },
  {
   "cell_type": "code",
   "execution_count": 13,
   "metadata": {},
   "outputs": [],
   "source": [
    " \n",
    "def relative_majority(profile): \n",
    "    return max(profile[0][1], key=lambda x: sum(vote[0] for vote in profile if vote[1][0] == x)) \n",
    " \n",
    "def absolute_majority(profile):\n",
    "    remaining_candidates = list(profile[0][1])  # Кандидати, які ще не вийшли з гри\n",
    "    votes_required = sum(vote[0] for vote in profile) // 2 + 1  # Потрібна кількість голосів для перемоги\n",
    "    \n",
    "    while len(remaining_candidates) > 1:\n",
    "        candidate_scores = {candidate: 0 for candidate in remaining_candidates}\n",
    "        \n",
    "        for vote in profile:\n",
    "            for i, candidate in enumerate(remaining_candidates):\n",
    "                if vote[1][0] == candidate:\n",
    "                    candidate_scores[candidate] += vote[0]\n",
    "                    break\n",
    "        \n",
    "        # Визначення переможця\n",
    "        winner = min(candidate_scores, key=candidate_scores.get)\n",
    "        \n",
    "        if candidate_scores[winner] >= votes_required:\n",
    "            return winner\n",
    "        else:\n",
    "            # Вибування переможця і перерозподіл голосів\n",
    "            remaining_candidates.remove(winner)\n",
    "            for vote in profile:\n",
    "                if vote[1][0] == winner:\n",
    "                    # Переведення голосів за вибувшого кандидата до інших залишившихся кандидатів\n",
    "                    vote[1][0] = min(remaining_candidates, key=lambda x: candidate_scores[x])\n",
    "                    \n",
    "    return remaining_candidates[0]"
   ]
  },
  {
   "cell_type": "markdown",
   "metadata": {},
   "source": [
    "Пошук переможця у два етапи. На першому етапі переможець знаходиться за правилом відносної більшості (relative_majority), на другому етапі - за правилом абсолютної більшості (absolute_majority)."
   ]
  },
  {
   "cell_type": "code",
   "execution_count": 8,
   "metadata": {},
   "outputs": [],
   "source": [
    "\n",
    "def borda(profile):\n",
    "    num_candidates = len(profile[0][1])\n",
    "    scores = {candidate: 0 for candidate in profile[0][1]}\n",
    "\n",
    "    for vote in profile:\n",
    "        for i, candidate in enumerate(vote[1]):\n",
    "            scores[candidate] += num_candidates - i - 1\n",
    "\n",
    "    return max(scores, key=scores.get)\n",
    "\n",
    "def condorcet(profile):\n",
    "    winners = []\n",
    "    for candidate in profile[0][1]:\n",
    "        if all(candidate in vote[1][:2] for vote in profile):\n",
    "            winners.append(candidate)\n",
    "\n",
    "    if len(winners) == 1:\n",
    "        return winners[0]\n",
    "    elif len(winners) == 2:\n",
    "        return winners\n",
    "    else:\n",
    "        return None "
   ]
  },
  {
   "cell_type": "markdown",
   "metadata": {},
   "source": [
    "Метод Борда (Borda Count):\n",
    "Для кожного голосу в профілі, в якому кандидати ранжировані, присвоюється бал кожному кандидату відповідно до його позиції в рейтингу. Наприклад, якщо є чотири кандидата, то першому кандидату присвоюється 3 бали, другому - 2 бали, третьому - 1 бал, і четвертому - 0 балів. Сума балів обчислюється для кожного кандидата, і переможцем визначається той, хто має найбільшу суму балів.\n",
    "\n",
    "Метод Кондорсе (Condorcet):\n",
    "Перевіряється, чи існує кандидат, який перемагає у всіх попарних порівняннях з іншими кандидатами. Якщо такий кандидат існує і він єдиний, то він визначається переможцем. Якщо є два кандидати, які перемагають один одного у всіх попарних порівняннях, то повертається список цих кандидатів як переможців. У всіх інших випадках повертається None, що вказує на відсутність визначеного переможця за методом Кондорсе."
   ]
  },
  {
   "cell_type": "code",
   "execution_count": null,
   "metadata": {},
   "outputs": [],
   "source": [
    "def copeland(profile):\n",
    "    scores = {candidate: 0 for candidate in profile[0][1]}\n",
    "    defeated_count = {candidate: 0 for candidate in profile[0][1]}\n",
    "    \n",
    "    for i, candidate1 in enumerate(profile[0][1]):\n",
    "        for j, candidate2 in enumerate(profile[0][1]):\n",
    "            if i != j:\n",
    "                for vote in profile:\n",
    "                    if candidate1 in vote[1] and candidate2 in vote[1]:\n",
    "                        if vote[1].index(candidate1) < vote[1].index(candidate2):\n",
    "                            scores[candidate1] += 1\n",
    "                            defeated_count[candidate2] += 1\n",
    "                        elif vote[1].index(candidate1) > vote[1].index(candidate2):\n",
    "                            scores[candidate2] += 1\n",
    "                            defeated_count[candidate1] += 1\n",
    "\n",
    "    winners = [candidate for candidate in scores if scores[candidate] == max(scores.values())]\n",
    "    return winners, defeated_count\n"
   ]
  },
  {
   "cell_type": "markdown",
   "metadata": {},
   "source": [
    "Пошук переможня з правила Копленда за допомогою функції 'copeland'. Конкретно, для кожної пари кандидатів (candidate1 та candidate2), код переглядає всі голоси в профілі. Якщо виборець віддав голос за candidate1 і candidate2, то вони отримують бали відповідно до того, який із них знаходиться впереді у виборця. Якщо candidate1 знаходиться перед candidate2, то candidate1 отримує один бал, і навпаки, якщо candidate2 знаходиться перед candidate1, то candidate2 отримує один бал."
   ]
  },
  {
   "cell_type": "code",
   "execution_count": 6,
   "metadata": {},
   "outputs": [],
   "source": [
    " \n",
    "def simpson(profile):\n",
    "    scores = {candidate: 0 for candidate in profile[0][1]}\n",
    "    defeated_count = {candidate: 0 for candidate in profile[0][1]}\n",
    "\n",
    "    for i, candidate1 in enumerate(profile[0][1]):\n",
    "        for j, candidate2 in enumerate(profile[0][1]):\n",
    "            if i != j:\n",
    "                for vote in profile:\n",
    "                    if candidate1 in vote[1] and candidate2 in vote[1]:\n",
    "                        try:\n",
    "                            if vote[1].index(candidate1) < vote[1].index(candidate2):\n",
    "                                scores[candidate1] += 1\n",
    "                                defeated_count[candidate2] += 1\n",
    "                            elif vote[1].index(candidate1) > vote[1].index(candidate2):\n",
    "                                scores[candidate2] += 1\n",
    "                                defeated_count[candidate1] += 1\n",
    "                        except ValueError:\n",
    "                            # Ігноруємо помилку, якщо кандидат не знайдений в голосі\n",
    "                            pass\n",
    "\n",
    "    winners = [candidate for candidate in scores if scores[candidate] == max(scores.values())]\n",
    "    return winners, defeated_count \n"
   ]
  },
  {
   "cell_type": "markdown",
   "metadata": {},
   "source": [
    "Пошук переможця за правилом Сімпсона за допомогою функції 'simpson' шляхом підрахування кількості \"поразок\". "
   ]
  },
  {
   "cell_type": "code",
   "execution_count": 14,
   "metadata": {},
   "outputs": [
    {
     "name": "stdout",
     "output_type": "stream",
     "text": [
      "[(4, ['A', 'B', 'C', 'D']), (4, ['A', 'C', 'D', 'B']), (3, ['C', 'A', 'B', 'D']), (9, ['B', 'C', 'A', 'D'])]\n",
      "Relative Majority: B\n",
      "Absolute Majority: A\n",
      "Borda: A\n",
      "Condorcet: None\n",
      "Copeland: (['A'], {'A': 6, 'B': 12, 'C': 8, 'D': 22})\n",
      "Simpson: (['A'], {'A': 6, 'B': 12, 'C': 8, 'D': 22})\n"
     ]
    }
   ],
   "source": [
    "# Початковий профіль кандидатів та виборців\n",
    "print(votes)\n",
    "# Визначення переможців за різними методами \n",
    "winners = { \n",
    "    \"Relative Majority\": relative_majority(copy.deepcopy(votes)), \n",
    "    \"Absolute Majority\": absolute_majority(copy.deepcopy(votes)), \n",
    "    \"Borda\": borda(copy.deepcopy(votes)), \n",
    "    \"Condorcet\": condorcet(copy.deepcopy(votes)), \n",
    "    \"Copeland\": copeland(copy.deepcopy(votes)), \n",
    "    \"Simpson\": simpson(copy.deepcopy(votes)), \n",
    "} \n",
    "\n",
    "# Виведення переможців \n",
    "for method, winner in winners.items(): \n",
    "    print(f\"{method}: {winner}\")\n",
    "\n"
   ]
  },
  {
   "cell_type": "markdown",
   "metadata": {},
   "source": [
    "Виведення початкового профілю та результатів пошуку переможця за різними правилами."
   ]
  }
 ],
 "metadata": {
  "kernelspec": {
   "display_name": "base",
   "language": "python",
   "name": "python3"
  },
  "language_info": {
   "codemirror_mode": {
    "name": "ipython",
    "version": 3
   },
   "file_extension": ".py",
   "mimetype": "text/x-python",
   "name": "python",
   "nbconvert_exporter": "python",
   "pygments_lexer": "ipython3",
   "version": "3.11.5"
  }
 },
 "nbformat": 4,
 "nbformat_minor": 2
}
